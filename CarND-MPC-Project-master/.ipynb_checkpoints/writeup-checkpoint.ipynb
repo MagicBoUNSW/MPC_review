{
 "cells": [
  {
   "cell_type": "markdown",
   "metadata": {},
   "source": [
    "## Implementation\n",
    "\n",
    "### The Model\n",
    "\n",
    "The model used is a Kinematic model neglecting the complex interactions between the tires and the road. The model equations are as follow:\n",
    "\n",
    "```\n",
    "x[t] = x[t-1] + v[t-1] * cos(psi[t-1]) * dt\n",
    "y[t] = y[t-1] + v[t-1] * sin(psi[t-1]) * dt\n",
    "v[t] = v[t-1] + a[t-1] * dt\n",
    "psi[t] = psi[t-1] + v[t-1] / Lf * delta[t-1] * dt\n",
    "cte[t] = f(x[t-1]) - y[t-1] + v[t-1] * sin(epsi[t-1]) * dt\n",
    "epsi[t] = psi[t] - psides[t-1] + v[t-1] * delta[t-1] / Lf * dt\n",
    "```\n",
    "\n",
    "Where the state of the model:\n",
    "\n",
    "- `x, y` : Car's position.\n",
    "- `psi` : Car's heading direction.\n",
    "- `v` : Car's velocity.\n",
    "- `cte` : Cross-track error.\n",
    "- `epsi` : Orientation error.\n",
    "two values are the model output:\n",
    "\n",
    "- `a` : Car's acceleration (throttle).\n",
    "- `delta` : Steering angle.\n",
    "\n",
    "* `Lf` is the distance between the car of mass and the front wheels.\n",
    "* The objective is to find the acceleration (`a`) and the steering angle(`delta`) in the way it will minimize an objective function that is the combination of different factors:\n",
    "\n",
    "- Square sum of `cte` and `epsi`.\n",
    "\n",
    "### Timestep Length and Elapsed Duration (N & dt)\n",
    "\n",
    "* The prediction horizon is defined by the number of points(`N`) and the time interval(`dt`). \n",
    "* After trying with `N` from 10 to 20 and `dt` 100 to 500 milliseconds, to have a better result tuning the other parameters I decided to choose them fixed to 10 and 100 milliseconds.\n",
    "* The number of points impacts the controller performance as well. I tried to keep the horizon around the same time the waypoints were on the simulator. \n",
    "* With too many points the controller starts to run slower, and some times it went wild very easily. \n",
    "\n",
    "### Polynomial Fitting and MPC Preprocessing\n",
    "\n",
    "* The waypoints provided by the simulator are transformed to the car coordinate system in main.cpp. \n",
    "* A 3rd-degree polynomial is fitted to the transformed waypoints. These polynomial coefficients are used to calculate the `cte` and `epsi` later on. \n",
    "* They are used by the solver as well to create a reference trajectory.\n",
    "\n",
    "### Model Predictive Control with Latency\n",
    "\n",
    "* To handle actuator latency, the state values are calculated using the model and the delay interval. These values are used instead of the initial one. \n",
    "* The code implementing that could be found in main.cpp.\n"
   ]
  },
  {
   "cell_type": "markdown",
   "metadata": {},
   "source": []
  }
 ],
 "metadata": {
  "kernelspec": {
   "display_name": "Python 3",
   "language": "python",
   "name": "python3"
  },
  "language_info": {
   "codemirror_mode": {
    "name": "ipython",
    "version": 3
   },
   "file_extension": ".py",
   "mimetype": "text/x-python",
   "name": "python",
   "nbconvert_exporter": "python",
   "pygments_lexer": "ipython3",
   "version": "3.6.3"
  }
 },
 "nbformat": 4,
 "nbformat_minor": 2
}
